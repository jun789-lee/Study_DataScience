{
 "cells": [
  {
   "cell_type": "code",
   "execution_count": 1,
   "id": "379421b3",
   "metadata": {
    "_cell_guid": "b1076dfc-b9ad-4769-8c92-a6c4dae69d19",
    "_uuid": "8f2839f25d086af736a60e9eeb907d3b93b6e0e5",
    "execution": {
     "iopub.execute_input": "2025-06-10T00:11:08.007824Z",
     "iopub.status.busy": "2025-06-10T00:11:08.007550Z",
     "iopub.status.idle": "2025-06-10T00:11:09.299428Z",
     "shell.execute_reply": "2025-06-10T00:11:09.298607Z"
    },
    "papermill": {
     "duration": 1.295861,
     "end_time": "2025-06-10T00:11:09.300655",
     "exception": false,
     "start_time": "2025-06-10T00:11:08.004794",
     "status": "completed"
    },
    "tags": []
   },
   "outputs": [
    {
     "name": "stdout",
     "output_type": "stream",
     "text": [
      "/kaggle/input/tensorflow-speech-recognition-challenge/link_to_gcp_credits_form.txt\n",
      "/kaggle/input/tensorflow-speech-recognition-challenge/test.7z\n",
      "/kaggle/input/tensorflow-speech-recognition-challenge/sample_submission.7z\n",
      "/kaggle/input/tensorflow-speech-recognition-challenge/train.7z\n"
     ]
    }
   ],
   "source": [
    "# This Python 3 environment comes with many helpful analytics libraries installed\n",
    "# It is defined by the kaggle/python Docker image: https://github.com/kaggle/docker-python\n",
    "# For example, here's several helpful packages to load\n",
    "\n",
    "import numpy as np # linear algebra\n",
    "import pandas as pd # data processing, CSV file I/O (e.g. pd.read_csv)\n",
    "\n",
    "# Input data files are available in the read-only \"../input/\" directory\n",
    "# For example, running this (by clicking run or pressing Shift+Enter) will list all files under the input directory\n",
    "\n",
    "import os\n",
    "for dirname, _, filenames in os.walk('/kaggle/input'):\n",
    "    for filename in filenames:\n",
    "        print(os.path.join(dirname, filename))\n",
    "\n",
    "# You can write up to 20GB to the current directory (/kaggle/working/) that gets preserved as output when you create a version using \"Save & Run All\" \n",
    "# You can also write temporary files to /kaggle/temp/, but they won't be saved outside of the current session"
   ]
  },
  {
   "cell_type": "code",
   "execution_count": 2,
   "id": "47638189",
   "metadata": {
    "execution": {
     "iopub.execute_input": "2025-06-10T00:11:09.304339Z",
     "iopub.status.busy": "2025-06-10T00:11:09.304078Z",
     "iopub.status.idle": "2025-06-10T00:11:14.269147Z",
     "shell.execute_reply": "2025-06-10T00:11:14.268176Z"
    },
    "papermill": {
     "duration": 4.968526,
     "end_time": "2025-06-10T00:11:14.270831",
     "exception": false,
     "start_time": "2025-06-10T00:11:09.302305",
     "status": "completed"
    },
    "tags": []
   },
   "outputs": [
    {
     "name": "stdout",
     "output_type": "stream",
     "text": [
      "Collecting py7zr\r\n",
      "  Downloading py7zr-1.0.0-py3-none-any.whl.metadata (17 kB)\r\n",
      "Requirement already satisfied: texttable in /usr/local/lib/python3.11/dist-packages (from py7zr) (1.7.0)\r\n",
      "Requirement already satisfied: pycryptodomex>=3.20.0 in /usr/local/lib/python3.11/dist-packages (from py7zr) (3.22.0)\r\n",
      "Collecting brotli>=1.1.0 (from py7zr)\r\n",
      "  Downloading Brotli-1.1.0-cp311-cp311-manylinux_2_17_x86_64.manylinux2014_x86_64.whl.metadata (5.5 kB)\r\n",
      "Requirement already satisfied: psutil in /usr/local/lib/python3.11/dist-packages (from py7zr) (7.0.0)\r\n",
      "Collecting pyzstd>=0.16.1 (from py7zr)\r\n",
      "  Downloading pyzstd-0.17.0-cp311-cp311-manylinux_2_17_x86_64.manylinux2014_x86_64.whl.metadata (2.5 kB)\r\n",
      "Collecting pyppmd<1.3.0,>=1.1.0 (from py7zr)\r\n",
      "  Downloading pyppmd-1.2.0-cp311-cp311-manylinux_2_17_x86_64.manylinux2014_x86_64.whl.metadata (5.4 kB)\r\n",
      "Collecting pybcj<1.1.0,>=1.0.0 (from py7zr)\r\n",
      "  Downloading pybcj-1.0.6-cp311-cp311-manylinux_2_17_x86_64.manylinux2014_x86_64.whl.metadata (3.7 kB)\r\n",
      "Collecting multivolumefile>=0.2.3 (from py7zr)\r\n",
      "  Downloading multivolumefile-0.2.3-py3-none-any.whl.metadata (6.3 kB)\r\n",
      "Collecting inflate64<1.1.0,>=1.0.0 (from py7zr)\r\n",
      "  Downloading inflate64-1.0.3-cp311-cp311-manylinux_2_17_x86_64.manylinux2014_x86_64.whl.metadata (4.4 kB)\r\n",
      "Requirement already satisfied: typing-extensions>=4.13.2 in /usr/local/lib/python3.11/dist-packages (from pyzstd>=0.16.1->py7zr) (4.13.2)\r\n",
      "Downloading py7zr-1.0.0-py3-none-any.whl (69 kB)\r\n",
      "\u001b[2K   \u001b[90m━━━━━━━━━━━━━━━━━━━━━━━━━━━━━━━━━━━━━━━━\u001b[0m \u001b[32m69.7/69.7 kB\u001b[0m \u001b[31m4.8 MB/s\u001b[0m eta \u001b[36m0:00:00\u001b[0m\r\n",
      "\u001b[?25hDownloading Brotli-1.1.0-cp311-cp311-manylinux_2_17_x86_64.manylinux2014_x86_64.whl (2.9 MB)\r\n",
      "\u001b[2K   \u001b[90m━━━━━━━━━━━━━━━━━━━━━━━━━━━━━━━━━━━━━━━━\u001b[0m \u001b[32m2.9/2.9 MB\u001b[0m \u001b[31m56.7 MB/s\u001b[0m eta \u001b[36m0:00:00\u001b[0m\r\n",
      "\u001b[?25hDownloading inflate64-1.0.3-cp311-cp311-manylinux_2_17_x86_64.manylinux2014_x86_64.whl (96 kB)\r\n",
      "\u001b[2K   \u001b[90m━━━━━━━━━━━━━━━━━━━━━━━━━━━━━━━━━━━━━━━━\u001b[0m \u001b[32m96.4/96.4 kB\u001b[0m \u001b[31m5.9 MB/s\u001b[0m eta \u001b[36m0:00:00\u001b[0m\r\n",
      "\u001b[?25hDownloading multivolumefile-0.2.3-py3-none-any.whl (17 kB)\r\n",
      "Downloading pybcj-1.0.6-cp311-cp311-manylinux_2_17_x86_64.manylinux2014_x86_64.whl (50 kB)\r\n",
      "\u001b[2K   \u001b[90m━━━━━━━━━━━━━━━━━━━━━━━━━━━━━━━━━━━━━━━━\u001b[0m \u001b[32m50.7/50.7 kB\u001b[0m \u001b[31m2.9 MB/s\u001b[0m eta \u001b[36m0:00:00\u001b[0m\r\n",
      "\u001b[?25hDownloading pyppmd-1.2.0-cp311-cp311-manylinux_2_17_x86_64.manylinux2014_x86_64.whl (141 kB)\r\n",
      "\u001b[2K   \u001b[90m━━━━━━━━━━━━━━━━━━━━━━━━━━━━━━━━━━━━━━━━\u001b[0m \u001b[32m141.3/141.3 kB\u001b[0m \u001b[31m6.8 MB/s\u001b[0m eta \u001b[36m0:00:00\u001b[0m\r\n",
      "\u001b[?25hDownloading pyzstd-0.17.0-cp311-cp311-manylinux_2_17_x86_64.manylinux2014_x86_64.whl (412 kB)\r\n",
      "\u001b[2K   \u001b[90m━━━━━━━━━━━━━━━━━━━━━━━━━━━━━━━━━━━━━━━━\u001b[0m \u001b[32m412.9/412.9 kB\u001b[0m \u001b[31m18.1 MB/s\u001b[0m eta \u001b[36m0:00:00\u001b[0m\r\n",
      "\u001b[?25hInstalling collected packages: brotli, pyzstd, pyppmd, pybcj, multivolumefile, inflate64, py7zr\r\n",
      "Successfully installed brotli-1.1.0 inflate64-1.0.3 multivolumefile-0.2.3 py7zr-1.0.0 pybcj-1.0.6 pyppmd-1.2.0 pyzstd-0.17.0\r\n"
     ]
    }
   ],
   "source": [
    "!pip install py7zr"
   ]
  },
  {
   "cell_type": "code",
   "execution_count": 3,
   "id": "81988363",
   "metadata": {
    "execution": {
     "iopub.execute_input": "2025-06-10T00:11:14.276542Z",
     "iopub.status.busy": "2025-06-10T00:11:14.276302Z",
     "iopub.status.idle": "2025-06-10T00:12:56.571266Z",
     "shell.execute_reply": "2025-06-10T00:12:56.570631Z"
    },
    "papermill": {
     "duration": 102.300106,
     "end_time": "2025-06-10T00:12:56.573455",
     "exception": false,
     "start_time": "2025-06-10T00:11:14.273349",
     "status": "completed"
    },
    "tags": []
   },
   "outputs": [
    {
     "name": "stdout",
     "output_type": "stream",
     "text": [
      "'/kaggle/input/tensorflow-speech-recognition-challenge/train.7z' 파일의 압축을 해제합니다...\n",
      "대상 폴더: '/kaggle/working/train_data/'\n",
      "압축 해제가 완료되었습니다! ✅\n",
      "'/kaggle/working/train_data/' 폴더의 파일 목록:\n",
      "['train']\n",
      "\n",
      "[오류] '/kaggle/working/train_data/train_audio/audio_files.csv' 파일을 찾을 수 없습니다.\n",
      "os.listdir()로 출력된 실제 파일 이름과 경로를 확인해 주세요.\n"
     ]
    }
   ],
   "source": [
    "import os\n",
    "import py7zr  # 방금 설치한 라이브러리\n",
    "import pandas as pd\n",
    "\n",
    "# 1. 경로 설정\n",
    "# 압축 파일이 있는 경로\n",
    "archive_path = '/kaggle/input/tensorflow-speech-recognition-challenge/train.7z'\n",
    "# 압축을 풀 작업 경로 (쓰기 가능한 디렉터리)\n",
    "extract_path = '/kaggle/working/train_data/'\n",
    "\n",
    "print(f\"'{archive_path}' 파일의 압축을 해제합니다...\")\n",
    "print(f\"대상 폴더: '{extract_path}'\")\n",
    "\n",
    "# 2. 압축 해제 실행\n",
    "# extract_path가 존재하지 않으면 생성\n",
    "os.makedirs(extract_path, exist_ok=True) \n",
    "\n",
    "# with문을 사용하면 파일을 안전하게 열고 자동으로 닫을 수 있습니다.\n",
    "with py7zr.SevenZipFile(archive_path, mode='r') as archive:\n",
    "    archive.extractall(path=extract_path)\n",
    "\n",
    "print(\"압축 해제가 완료되었습니다! ✅\")\n",
    "print(f\"'{extract_path}' 폴더의 파일 목록:\")\n",
    "print(os.listdir(extract_path)) # 압축 해제된 파일 목록 확인\n",
    "\n",
    "\n",
    "# 3. 압축 해제된 파일 Pandas로 읽기\n",
    "# 예시: 압축 파일 안에 'train_audio.csv' 같은 파일이 있다고 가정\n",
    "# 실제 파일 이름은 위 os.listdir() 결과를 보고 확인해야 합니다.\n",
    "try:\n",
    "    # 압축 해제된 파일의 전체 경로\n",
    "    # 이 부분은 실제 파일 이름으로 변경해야 할 수 있습니다.\n",
    "    csv_file_path = os.path.join(extract_path, 'train_audio', 'audio_files.csv') # 예시 경로\n",
    "    \n",
    "    # Pandas로 CSV 파일 읽기\n",
    "    df = pd.read_csv(csv_file_path)\n",
    "    \n",
    "    # 데이터프레임의 첫 5줄 출력\n",
    "    print(\"\\n--- CSV 파일 읽기 성공 ---\")\n",
    "    print(df.head())\n",
    "\n",
    "except FileNotFoundError:\n",
    "    print(f\"\\n[오류] '{csv_file_path}' 파일을 찾을 수 없습니다.\")\n",
    "    print(\"os.listdir()로 출력된 실제 파일 이름과 경로를 확인해 주세요.\")"
   ]
  },
  {
   "cell_type": "code",
   "execution_count": null,
   "id": "b10867a5",
   "metadata": {
    "papermill": {
     "duration": 0.001766,
     "end_time": "2025-06-10T00:12:56.577252",
     "exception": false,
     "start_time": "2025-06-10T00:12:56.575486",
     "status": "completed"
    },
    "tags": []
   },
   "outputs": [],
   "source": []
  }
 ],
 "metadata": {
  "kaggle": {
   "accelerator": "none",
   "dataSources": [
    {
     "databundleVersionId": 46676,
     "sourceId": 7634,
     "sourceType": "competition"
    }
   ],
   "dockerImageVersionId": 31040,
   "isGpuEnabled": false,
   "isInternetEnabled": true,
   "language": "python",
   "sourceType": "notebook"
  },
  "kernelspec": {
   "display_name": "Python 3",
   "language": "python",
   "name": "python3"
  },
  "language_info": {
   "codemirror_mode": {
    "name": "ipython",
    "version": 3
   },
   "file_extension": ".py",
   "mimetype": "text/x-python",
   "name": "python",
   "nbconvert_exporter": "python",
   "pygments_lexer": "ipython3",
   "version": "3.11.11"
  },
  "papermill": {
   "default_parameters": {},
   "duration": 112.742111,
   "end_time": "2025-06-10T00:12:57.196644",
   "environment_variables": {},
   "exception": null,
   "input_path": "__notebook__.ipynb",
   "output_path": "__notebook__.ipynb",
   "parameters": {},
   "start_time": "2025-06-10T00:11:04.454533",
   "version": "2.6.0"
  }
 },
 "nbformat": 4,
 "nbformat_minor": 5
}
